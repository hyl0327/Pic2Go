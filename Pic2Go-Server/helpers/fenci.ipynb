{
 "cells": [
  {
   "cell_type": "code",
   "execution_count": 1,
   "metadata": {},
   "outputs": [],
   "source": [
    "import os\n",
    "\n",
    "import jieba"
   ]
  },
  {
   "cell_type": "code",
   "execution_count": 2,
   "metadata": {},
   "outputs": [],
   "source": [
    "jieba.set_dictionary('dict.txt.big')"
   ]
  },
  {
   "cell_type": "code",
   "execution_count": 3,
   "metadata": {},
   "outputs": [
    {
     "name": "stderr",
     "output_type": "stream",
     "text": [
      "Building prefix dict from /Users/hyl/Developer/mp/final/server/helpers/dict.txt.big ...\n",
      "Dumping model to file cache /var/folders/wc/zxwlw615459fjb9kh6n12twr0000gn/T/jieba.u413d32aae9e9889efeda672ec5574c46.cache\n",
      "Loading model cost 1.923 seconds.\n",
      "Prefix dict has been built succesfully.\n"
     ]
    }
   ],
   "source": [
    "if not os.path.exists('../data/descriptions'):\n",
    "    os.mkdir('../data/descriptions')\n",
    "\n",
    "with open('../data/descriptions_all.txt') as fin:\n",
    "    for i, line in enumerate(fin):\n",
    "        with open('../data/descriptions/{}'.format(i), 'w') as fout:\n",
    "            seg_list = jieba.cut_for_search(line)\n",
    "            fout.write(' '.join(seg_list))"
   ]
  }
 ],
 "metadata": {
  "kernelspec": {
   "display_name": "pic2go",
   "language": "python",
   "name": "pic2go"
  },
  "language_info": {
   "codemirror_mode": {
    "name": "ipython",
    "version": 3
   },
   "file_extension": ".py",
   "mimetype": "text/x-python",
   "name": "python",
   "nbconvert_exporter": "python",
   "pygments_lexer": "ipython3",
   "version": "3.6.4"
  }
 },
 "nbformat": 4,
 "nbformat_minor": 2
}
